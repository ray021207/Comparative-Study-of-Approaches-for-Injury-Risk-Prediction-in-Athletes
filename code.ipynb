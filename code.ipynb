{
  "nbformat": 4,
  "nbformat_minor": 0,
  "metadata": {
    "colab": {
      "provenance": [],
      "authorship_tag": "ABX9TyPBIRg7aNBiKdqb4ydLmr2m",
      "include_colab_link": true
    },
    "kernelspec": {
      "name": "python3",
      "display_name": "Python 3"
    },
    "language_info": {
      "name": "python"
    }
  },
  "cells": [
    {
      "cell_type": "markdown",
      "metadata": {
        "id": "view-in-github",
        "colab_type": "text"
      },
      "source": [
        "<a href=\"https://colab.research.google.com/github/ray021207/Comparative-Study-of-Approaches-for-Injury-Risk-Prediction-in-Athletes/blob/main/code.ipynb\" target=\"_parent\"><img src=\"https://colab.research.google.com/assets/colab-badge.svg\" alt=\"Open In Colab\"/></a>"
      ]
    },
    {
      "cell_type": "code",
      "source": [
        "import pandas as pd\n",
        "from sklearn.model_selection import train_test_split\n",
        "from sklearn.preprocessing import StandardScaler\n",
        "\n",
        "# 1. Load the CSV file\n",
        "df = pd.read_csv(\"mhealth_full.csv\")\n",
        "\n",
        "# 2. Separate features and labels\n",
        "X = df.drop(columns=['activity_label', 'subject'])\n",
        "y = df['activity_label']\n",
        "\n",
        "# 3. Handle missing values (if any)\n",
        "# Optional: check for missing values\n",
        "print(\"Missing values per column:\\n\", X.isnull().sum())\n",
        "\n",
        "# For now, drop any rows with missing values (can replace with .fillna if needed)\n",
        "X = X.dropna()\n",
        "y = y.loc[X.index]  # Keep label rows aligned\n",
        "\n",
        "# 4. Normalize the features (z-score normalization)\n",
        "scaler = StandardScaler()\n",
        "X_scaled = scaler.fit_transform(X)\n",
        "\n",
        "# 5. Train-test split (e.g., 80/20)\n",
        "X_train, X_test, y_train, y_test = train_test_split(\n",
        "    X_scaled, y, test_size=0.2, random_state=42, stratify=y)\n",
        "\n",
        "print(f\"Train size: {X_train.shape[0]} | Test size: {X_test.shape[0]}\")\n"
      ],
      "metadata": {
        "id": "S9UL4r-jmuuB",
        "outputId": "f1082ad8-15f2-437a-b5d8-3c8d895d936e",
        "colab": {
          "base_uri": "https://localhost:8080/"
        }
      },
      "execution_count": 5,
      "outputs": [
        {
          "output_type": "stream",
          "name": "stdout",
          "text": [
            "Missing values per column:\n",
            " acc_chest_x     0\n",
            "acc_chest_y     0\n",
            "acc_chest_z     0\n",
            "ecg_1           0\n",
            "ecg_2           0\n",
            "acc_ankle_x     0\n",
            "acc_ankle_y     0\n",
            "acc_ankle_z     0\n",
            "gyro_ankle_x    0\n",
            "gyro_ankle_y    0\n",
            "gyro_ankle_z    0\n",
            "mag_ankle_x     0\n",
            "mag_ankle_y     0\n",
            "mag_ankle_z     0\n",
            "acc_wrist_x     0\n",
            "acc_wrist_y     0\n",
            "acc_wrist_z     0\n",
            "gyro_wrist_x    0\n",
            "gyro_wrist_y    0\n",
            "gyro_wrist_z    0\n",
            "mag_wrist_x     0\n",
            "mag_wrist_y     0\n",
            "mag_wrist_z     0\n",
            "dtype: int64\n",
            "Train size: 838860 | Test size: 209715\n"
          ]
        }
      ]
    }
  ]
}